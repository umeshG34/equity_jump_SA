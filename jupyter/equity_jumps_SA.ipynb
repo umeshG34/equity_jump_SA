{
 "cells": [
  {
   "cell_type": "code",
   "execution_count": 1,
   "metadata": {},
   "outputs": [],
   "source": [
    "import requests\n",
    "from bs4 import BeautifulSoup  \n",
    "from datetime import datetime\n",
    "import pandas as pd"
   ]
  },
  {
   "cell_type": "code",
   "execution_count": 2,
   "metadata": {},
   "outputs": [
    {
     "data": {
      "text/plain": [
       "'20190416'"
      ]
     },
     "execution_count": 2,
     "metadata": {},
     "output_type": "execute_result"
    }
   ],
   "source": [
    "datetime.today().strftime('%Y%m%d')"
   ]
  },
  {
   "cell_type": "code",
   "execution_count": 7,
   "metadata": {},
   "outputs": [
    {
     "name": "stdout",
     "output_type": "stream",
     "text": [
      "'NoneType' object has no attribute 'find_all' \n",
      " Please make sure the date is not a holiday and if todays date is given wait till the EOD as in both cases the tables might be empty\n",
      "'NoneType' object has no attribute 'find_all' \n",
      " Please make sure the date is not a holiday and if todays date is given wait till the EOD as in both cases the tables might be empty\n",
      "{'gain_eqs': [], 'loss_eqs': []}\n"
     ]
    }
   ],
   "source": [
    "# data collection class\n",
    "\n",
    "def wsj_gainers_losers(str_date = datetime.today().strftime('%Y%m%d')):\n",
    "    \"\"\"\n",
    "    Gets the top loser and gainers from the WSJ Market Data Centre (MDC) site.\n",
    "    \"\"\"\n",
    "    wsj_lose_url = \"http://www.wsj.com/mdc/public/page/2_3021-losecomp-loser-\"+str_date+\".html?mod=mdc_pastcalendar\"\n",
    "    wsj_gain_url = \"http://www.wsj.com/mdc/public/page/2_3021-gaincomp-gainer-\"+str_date+\".html?mod=mdc_pastcalendar\"\n",
    "    res = [requests.get(wsj_gain_url), requests.get(wsj_lose_url)]\n",
    "    \n",
    "    return {\"gain_eqs\" : get_wsj_content(res[0]),\"loss_eqs\" : get_wsj_content(res[1])}\n",
    "    \n",
    "def get_wsj_content(res):\n",
    "    page = BeautifulSoup(res.text)\n",
    "    #Getting the table from the WSJ page.\n",
    "    table = page.find(\"table\",{\"class\": \"mdcTable\" })\n",
    "    \n",
    "    col_names = []\n",
    "    rows = []\n",
    "    try:\n",
    "        for ind,row in enumerate(table.find_all(\"tr\")[0:5]):\n",
    "            if ind == 0:\n",
    "                #print(row)\n",
    "                col_names = [cell.get_text(strip=True) for cell in row.find_all(\"td\")]\n",
    "                col_names[0] = \"S.No\"\n",
    "                print(col_names)\n",
    "            else:\n",
    "                rows.append([col.text.strip() for col in row.find_all(\"td\")])\n",
    "    except Exception as e: \n",
    "        print(e,\"\\n Please make sure the date is not a holiday and if todays date is given wait till the EOD as in both cases the tables might be empty\")\n",
    "    return rows\n",
    "    \n",
    "eqs = wsj_gainers_losers('20190414')\n",
    "print(eqs)"
   ]
  },
  {
   "cell_type": "code",
   "execution_count": null,
   "metadata": {},
   "outputs": [],
   "source": [
    "def functio(page):\n",
    "    table = page.find(\"table\",{\"class\": \"mdcTable\" })\n",
    "\n",
    "    col_names = []\n",
    "    rows = []\n",
    "\n",
    "    for ind,row in enumerate(table.find_all(\"tr\")[0:5]):\n",
    "        if ind == 0:\n",
    "            #print(row)\n",
    "            col_names = [cell.get_text(strip=True) for cell in row.find_all(\"td\")]\n",
    "            col_names[0] = \"S.No\"\n",
    "            print(col_names)\n",
    "        else:\n",
    "            rows.append([col.text.strip() for col in row.find_all(\"td\")])\n",
    "    print(rows)\n",
    "\n",
    "wsj_lose_url = \"http://www.wsj.com/mdc/public/page/2_3021-losecomp-loser-\"+str_date+\".html?mod=mdc_pastcalendar\"    \n",
    "res = requests.get(wsj_lose_url)    \n",
    "page = BeautifulSoup(res.text)\n",
    "\n",
    "functio(page)"
   ]
  },
  {
   "cell_type": "code",
   "execution_count": 174,
   "metadata": {},
   "outputs": [
    {
     "name": "stdout",
     "output_type": "stream",
     "text": [
      "http://www.wsj.com/mdc/public/page/2_3021-gaincomp-gainer-20190410.html?mod=mdc_pastcalendar\n",
      " http://www.wsj.com/mdc/public/page/2_3021-losecomp-loser-20190410.html?mod=mdc_pastcalendar\n",
      "None\n",
      "<class 'bs4.element.ResultSet'>\n"
     ]
    }
   ],
   "source": [
    "\n",
    "\n",
    "str_date = datetime.today().strftime('%Y%m%d')\n",
    "str_date = '20190410'\n",
    "\n",
    "wsj_lose_url = \"http://www.wsj.com/mdc/public/page/2_3021-losecomp-loser-\"+str_date+\".html?mod=mdc_pastcalendar\"\n",
    "wsj_gain_url = \"http://www.wsj.com/mdc/public/page/2_3021-gaincomp-gainer-\"+str_date+\".html?mod=mdc_pastcalendar\"\n",
    "\n",
    "print(wsj_gain_url+\"\\n\",wsj_lose_url)\n",
    "res = requests.get(wsj_lose_url)\n",
    "\n",
    "try:\n",
    "    print(res.raise_for_status())\n",
    "except Exception as err: \n",
    "    print(err)\n",
    "\n",
    "#def get_wsj_contents(res):\n",
    "page = BeautifulSoup(res.text)\n",
    "#Getting the table from the WSJ page.\n",
    "table = page.find_all(lambda tag: tag.name=='div' and tag.has_attr('id') and tag['id']==\"Column0\")\n",
    "print(type(table))\n",
    "#rows = table.find_all(lambda tag: tag.name=='tr')\n",
    "\n",
    "#get_wsj_contents(res)"
   ]
  },
  {
   "cell_type": "code",
   "execution_count": null,
   "metadata": {},
   "outputs": [],
   "source": [
    "from datetime import datetime\n",
    "\n",
    "def google_equity_pages(equity_name, today = datetime.today().strftime('%Y-%m-%d') ):\n",
    "    \n",
    "    "
   ]
  }
 ],
 "metadata": {
  "kernelspec": {
   "display_name": "Python [conda env:equity_jump_SA]",
   "language": "python",
   "name": "conda-env-equity_jump_SA-py"
  },
  "language_info": {
   "codemirror_mode": {
    "name": "ipython",
    "version": 3
   },
   "file_extension": ".py",
   "mimetype": "text/x-python",
   "name": "python",
   "nbconvert_exporter": "python",
   "pygments_lexer": "ipython3",
   "version": "3.7.3"
  }
 },
 "nbformat": 4,
 "nbformat_minor": 2
}
