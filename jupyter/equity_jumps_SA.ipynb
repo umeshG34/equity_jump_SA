{
 "cells": [
  {
   "cell_type": "code",
   "execution_count": 1,
   "metadata": {},
   "outputs": [],
   "source": [
    "import requests\n",
    "from bs4 import BeautifulSoup  \n",
    "from datetime import datetime\n",
    "import pandas as pd"
   ]
  },
  {
   "cell_type": "code",
   "execution_count": 2,
   "metadata": {},
   "outputs": [
    {
     "data": {
      "text/plain": [
       "'20190416'"
      ]
     },
     "execution_count": 2,
     "metadata": {},
     "output_type": "execute_result"
    }
   ],
   "source": [
    "datetime.today().strftime('%Y%m%d')"
   ]
  },
  {
   "cell_type": "code",
   "execution_count": 10,
   "metadata": {},
   "outputs": [
    {
     "name": "stdout",
     "output_type": "stream",
     "text": [
      "{'gain_eqs': [['S.No', 'Issue(Roll over for charts and headlines)', 'Price', 'Chg', '% Chg', 'Volume'], [['1', 'Bio-Path Holdings (BPTH)', '$20.74', '5.09', '32.52', '6,908,636'], ['2', 'Vectrus (VEC)', '39.00', '9.26', '31.14', '785,660'], ['3', 'ATA ADR (ATAI)', '3.25', '0.75', '30.00', '9,243,890'], ['4', 'Electronics for Imaging (EFII)', '38.00', '8.60', '29.25', '8,450,811'], ['5', 'SSLJ.com Cl A (SSLJ)', '3.58', '0.80', '28.78', '579,892'], ['6', 'Jumia Technologies ADR (JMIA)', '31.91', '6.45', '25.33', '12,714,379'], ['7', 'Amyris (AMRS)', '3.45', '0.58', '20.21', '6,739,479'], ['8', 'Mogo Finance Technology (MOGO)', '2.72', '0.42', '18.27', '185,770'], ['9', 'Advanced Disposal Services (ADSW)', '31.99', '4.85', '17.87', '16,602,210'], ['10', 'Navios Maritime Containers (NMCI)', '2.46', '0.32', '14.95', '279,911'], ['11', 'Soliton (SOLY)', '14.25', '1.81', '14.55', '323,381'], ['12', 'Adient (ADNT)', '23.73', '3.00', '14.47', '9,168,988'], ['13', 'Conformis (CFMS)', '2.59', '0.32', '14.10', '2,576,257'], ['14', 'Helius Medical Technologies (HSDT)', '2.31', '0.28', '13.79', '622,158'], ['15', 'Catalent (CTLT)', '44.41', '5.15', '13.12', '3,074,010'], ['16', 'Boxlight Cl A (BOXL)', '3.92', '0.43', '12.32', '1,046,503'], ['17', 'Merus (MRUS)', '16.45', '1.73', '11.75', '43,512'], ['18', 'Adverum Biotechnologies (ADVM)', '5.69', '0.59', '11.57', '1,237,865'], ['19', 'Phunware (PHUN)', '9.13', '0.94', '11.48', '2,205,009'], ['20', 'electroCore (ECOR)', '6.35', '0.63', '11.01', '92,196'], ['21', 'X4 Pharmaceuticals (XFOR)', '13.95', '1.38', '10.98', '34,922'], ['22', 'Asure Software (ASUR)', '7.10', '0.65', '10.08', '642,160'], ['23', 'Legacy Housing (LEGH)', '11.23', '1.01', '9.88', '218,011'], ['24', 'Mexco Energy (MXC)', '5.51', '0.49', '9.76', '3,671'], ['25', 'Arvinas (ARVN)', '22.98', '1.98', '9.43', '91,173'], ['26', 'Up Fintech Holding ADR (TIGR)', '19.21', '1.60', '9.09', '2,668,544'], ['27', 'XTL Biopharmaceuticals ADR (XTLB)', '2.34', '0.19', '8.84', '7,152'], ['28', 'Cellcom Israel (CEL)', '4.23', '0.33', '8.46', '34,288'], ['29', 'Covia Holdings (CVIA)', '6.30', '0.49', '8.43', '1,097,492'], ['30', 'Empire Resorts (NYNY)', '11.46', '0.89', '8.42', '13,896'], ['31', 'Briggs&Stratton (BGG)', '13.59', '1.04', '8.29', '948,412'], ['32', 'Microbot Medical (MBOT)', '8.39', '0.64', '8.26', '141,258'], ['33', 'Gogo (GOGO)', '4.56', '0.34', '8.06', '4,814,489'], ['34', 'INmune Bio (INMB)', '10.36', '0.77', '7.98', '27,241'], ['35', 'Partner Communications ADR (PTNR)', '4.69', '0.34', '7.82', '8,169'], ['36', 'Apollo Endosurgery (APEN)', '3.58', '0.25', '7.51', '5,350'], ['37', 'Bioceres Crop Solutions (BIOX)', '4.87', '0.34', '7.51', '17,889'], ['38', 'Medidata Solutions (MDSO)', '80.55', '5.62', '7.50', '1,423,932'], ['39', 'Leaf Group (LEAF)', '8.76', '0.61', '7.48', '97,920'], ['40', 'Dean Foods (DF)', '2.30', '0.16', '7.48', '5,548,021'], ['41', 'China XD Plastics (CXDC)', '2.47', '0.17', '7.39', '53,395'], ['42', 'Evogene (EVGN)', '2.47', '0.17', '7.39', '56,195'], ['43', 'Greenpro Capital (GRNQ)', '2.47', '0.17', '7.39', '14,778'], ['44', 'Autolus Therapeutics ADR (AUTL)', '28.00', '1.88', '7.20', '154,097'], ['45', 'VelocityShares 3x Inverse Natural Gas ETN linked to the S&P GSCI Natural Gas Index Excess Return (DGAZ)', '116.21', '7.65', '7.05', '478,143'], ['46', 'SecureWorks Cl A (SCWX)', '19.14', '1.25', '6.99', '417,818'], ['47', 'Ruhnn Holding ADR (RUHN)', '7.35', '0.48', '6.99', '1,485,481'], ['48', 'Loma Negra Compania Industrial Argentina ADR (LOMA)', '12.02', '0.78', '6.94', '489,326'], ['49', 'Rosehill Resources Cl A (ROSE)', '4.18', '0.27', '6.91', '234,218'], ['50', 'Levi Strauss (LEVI)', '23.97', '1.52', '6.77', '5,278,299'], ['51', 'Hovnanian Enterprises Cl A (HOV)', '14.42', '0.86', '6.34', '235,202'], ['52', 'Axsome Therapeutics (AXSM)', '14.31', '0.85', '6.32', '1,712,766'], ['53', 'DMC Global (BOOM)', '69.03', '4.03', '6.20', '1,127,004'], ['54', 'Chaparral Energy (CHAP)', '6.01', '0.35', '6.18', '1,453,169'], ['55', 'ArQule (ARQL)', '5.90', '0.34', '6.12', '1,722,068'], ['56', 'Enzo Biochem (ENZ)', '3.65', '0.21', '6.10', '335,076'], ['57', 'Catasys (CATS)', '13.25', '0.76', '6.08', '113,964'], ['58', 'QIWI ADR (QIWI)', '14.99', '0.85', '6.01', '252,329'], ['59', 'Verb Technology (VERB)', '2.49', '0.14', '5.96', '183,867'], ['60', 'Onconova Therapeutics (ONTX)', '3.97', '0.22', '5.87', '28,910'], ['61', 'Patrick Industries (PATK)', '52.05', '2.86', '5.81', '400,423'], ['62', 'Radiant Logistics (RLGT)', '7.00', '0.38', '5.74', '1,670,754'], ['63', 'Optical Cable (OCC)', '5.08', '0.28', '5.72', '23,969'], ['64', 'Erytech Pharma ADR (ERYP)', '8.00', '0.43', '5.68', '2,213'], ['65', 'Aridis Pharmaceuticals (ARDS)', '10.70', '0.57', '5.63', '2,397'], ['66', 'Diana Shipping (DSX)', '3.21', '0.17', '5.59', '453,197'], ['67', '111 ADR (YI)', '7.70', '0.40', '5.48', '22,897'], ['68', 'Weight Watchers International (WTW)', '18.66', '0.96', '5.42', '13,776,870'], ['69', 'NN (NNBR)', '9.81', '0.50', '5.37', '326,845'], ['70', 'Eyenovia (EYEN)', '6.87', '0.35', '5.37', '99,551'], ['71', 'Opera ADR (OPRA)', '8.37', '0.42', '5.28', '150,982'], ['72', 'Match Group (MTCH)', '60.18', '2.98', '5.21', '4,189,269'], ['73', 'Corporacion America Airports (CAAP)', '7.70', '0.37', '5.05', '93,934'], ['74', 'Moderna (MRNA)', '25.84', '1.23', '5.00', '632,468'], ['75', 'SAExploration Holdings (SAEX)', '4.00', '0.19', '4.99', '215,841'], ['76', 'Xencor (XNCR)', '32.60', '1.50', '4.82', '146,854'], ['77', 'Breakwave Dry Bulk Shipping ETF (BDRY)', '10.13', '0.47', '4.82', '3,700'], ['78', 'Construction Partners Cl A (ROAD)', '12.38', '0.56', '4.74', '76,795'], ['79', 'Origin Agritech (SEED)', '7.79', '0.35', '4.70', '4,851'], ['80', 'inTEST (INTT)', '6.69', '0.30', '4.69', '43,144'], ['81', 'Urban Tea (MYT)', '2.23', '0.10', '4.69', '94,669'], ['82', 'BEST ADR (BEST)', '5.82', '0.26', '4.68', '1,532,666'], ['83', 'Pangaea Logistics Solutions (PANL)', '3.43', '0.15', '4.57', '21,298'], ['84', 'Syros Pharmaceuticals (SYRS)', '7.32', '0.32', '4.57', '436,795'], ['85', 'Shoe Carnival (SCVL)', '36.46', '1.58', '4.53', '662,043'], ['86', 'Senmiao Technology (AIHS)', '4.75', '0.20', '4.52', '108,655'], ['87', 'Astrotech (ASTC)', '3.71', '0.16', '4.51', '7,353'], ['88', 'Kaleido Biosciences (KLDO)', '14.91', '0.64', '4.48', '36,236'], ['89', 'ProShares UltraShort Bloomberg Natural Gas (KOLD)', '23.62', '1.00', '4.42', '47,597'], ['90', 'KBS Fashion Group (KBSF)', '4.29', '0.18', '4.38', '52,867'], ['91', 'CompX International Cl A (CIX)', '15.87', '0.66', '4.31', '4,922'], ['92', 'ChinaNet Online Holdings (CNET)', '2.19', '0.09', '4.29', '550,286'], ['93', 'Park-Ohio Holdings (PKOH)', '36.67', '1.49', '4.24', '67,207'], ['94', 'ClearOne (CLRO)', '2.25', '0.09', '4.17', '189,454'], ['95', 'China Advanced Construction Materials Group (CADC)', '3.25', '0.13', '4.17', '43,843'], ['96', 'Centennial Resource Development (CDEV)', '10.03', '0.40', '4.15', '3,314,329'], ['97', 'Navios Maritime Holdings (NM)', '4.78', '0.19', '4.14', '183,588'], ['98', 'Infrastructure&Energy Alternatives (IEA)', '5.04', '0.20', '4.13', '194,968'], ['99', 'Tailored Brands (TLRD)', '7.74', '0.30', '4.03', '2,392,902'], ['100', 'Horizon Global (HZN)', '2.58', '0.10', '4.03', '136,803']]], 'loss_eqs': [['S.No', 'Issue(Roll over for charts and headlines)', 'Price', 'Chg', '% Chg', 'Volume'], [['1', 'Reebonz Holding (RBZ)', '$5.10', '-6.39', '-55.61', '7,570,299'], ['2', 'Immunic (IMUX)', '24.12', '-9.08', '-27.35', '265,158'], ['3', 'Assembly Biosciences (ASMB)', '14.78', '-4.01', '-21.34', '3,113,333'], ['4', 'Essa Pharma (EPIX)', '2.13', '-0.52', '-19.51', '23,475'], ['5', 'Aphria (APHA)', '8.60', '-1.50', '-14.85', '13,421,595'], ['6', 'Vaccinex (VCNX)', '5.50', '-0.90', '-14.10', '44,370'], ['7', 'Replimune Group (REPL)', '13.03', '-2.08', '-13.77', '63,087'], ['8', 'Clovis Oncology (CLVS)', '20.55', '-2.93', '-12.48', '4,016,612'], ['9', 'McClatchy Cl A (MNI)', '3.48', '-0.47', '-11.92', '29,043'], ['10', 'Collegium Pharmaceutical (COLL)', '14.66', '-1.93', '-11.63', '618,302'], ['11', 'Compugen (CGEN)', '3.51', '-0.46', '-11.59', '521,613'], ['12', 'Gridsum Holding ADR (GSUM)', '3.18', '-0.41', '-11.42', '102,400'], ['13', 'Big 5 Sporting Goods (BGFV)', '2.58', '-0.32', '-11.03', '335,818'], ['14', 'Roan Resources (ROAN)', '5.12', '-0.62', '-10.80', '361,344'], ['15', 'Liquid Media Group (YVR)', '2.73', '-0.33', '-10.78', '82,089'], ['16', 'Lifeway Foods (LWAY)', '1.99', '-0.22', '-9.91', '20,723'], ['17', 'Verastem (VSTM)', '2.37', '-0.26', '-9.89', '4,359,055'], ['18', 'Immuron ADR (IMRN)', '6.32', '-0.68', '-9.71', '24,639'], ['19', 'PhaseBio Pharmaceuticals (PHAS)', '13.26', '-1.40', '-9.55', '647,860'], ['20', 'Cidara Therapeutics (CDTX)', '2.57', '-0.27', '-9.51', '281,996'], ['21', 'Euro Tech Holdings (CLWT)', '4.31', '-0.45', '-9.45', '77,320'], ['22', 'Datasea (DTSS)', '2.02', '-0.21', '-9.42', '9,357'], ['23', 'Marathon Patent Group (MARA)', '3.00', '-0.31', '-9.37', '638,203'], ['24', 'Alliance Data Systems (ADS)', '164.04', '-16.89', '-9.34', '3,055,561'], ['25', 'PCM (PCMI)', '33.55', '-3.42', '-9.25', '659,343'], ['26', 'Gamida Cell (GMDA)', '8.35', '-0.85', '-9.24', '64,030'], ['27', 'Xunlei ADR (XNET)', '3.44', '-0.35', '-9.23', '1,440,456'], ['28', 'Cohbar (CWBR)', '2.58', '-0.26', '-9.15', '135,536'], ['29', 'Mustang Bio (MBIO)', '2.78', '-0.28', '-9.15', '64,748'], ['30', 'Hexindai ADR (HX)', '3.29', '-0.33', '-9.12', '378,215'], ['31', 'Ambow Education Holding ADR (AMBO)', '5.35', '-0.53', '-9.01', '11,734'], ['32', 'Intevac (IVAC)', '4.99', '-0.48', '-8.78', '146,797'], ['33', 'Curis (CRIS)', '1.89', '-0.18', '-8.70', '438,015'], ['34', 'Neurotrope (NTRP)', '5.67', '-0.54', '-8.70', '147,632'], ['35', 'Summit Wireless Technologies (WISA)', '2.09', '-0.20', '-8.68', '72,416'], ['36', 'Aclaris Therapeutics (ACRS)', '5.51', '-0.52', '-8.62', '821,310'], ['37', 'Equillium (EQ)', '6.06', '-0.55', '-8.32', '30,414'], ['38', 'Caladrius Biosciences (CLBS)', '2.98', '-0.27', '-8.31', '25,915'], ['39', 'Huami ADR (HMI)', '12.58', '-1.13', '-8.24', '231,422'], ['40', 'resTORbio (TORC)', '7.17', '-0.64', '-8.19', '125,116'], ['41', 'IMV (IMV)', '3.21', '-0.29', '-8.17', '59,941'], ['42', 'Chiasma (CHMA)', '5.51', '-0.49', '-8.17', '202,595'], ['43', 'PDS Biotechnology (PDSB)', '6.35', '-0.56', '-8.10', '32,797'], ['44', 'Melinta Therapeutics (MLNT)', '4.21', '-0.37', '-8.08', '440,540'], ['45', 'Energous (WATT)', '5.21', '-0.45', '-7.95', '1,131,369'], ['46', 'Key Energy Services (KEG)', '3.41', '-0.29', '-7.84', '237,664'], ['47', 'Niu Technologies ADR (NIU)', '10.85', '-0.91', '-7.74', '176,936'], ['48', 'ZK International Group (ZKIN)', '1.92', '-0.16', '-7.69', '528,176'], ['49', 'Synthorx (THOR)', '18.27', '-1.52', '-7.68', '74,102'], ['50', 'Neos Therapeutics (NEOS)', '2.05', '-0.17', '-7.66', '507,578'], ['51', 'Spring Bank Pharmaceuticals (SBPH)', '8.82', '-0.73', '-7.64', '51,088'], ['52', 'Albireo Pharma (ALBO)', '31.96', '-2.63', '-7.60', '43,648'], ['53', 'YRC Worldwide (YRCW)', '7.55', '-0.61', '-7.48', '1,187,341'], ['54', 'Cronos Group (CRON)', '15.78', '-1.26', '-7.39', '9,575,806'], ['55', 'Xinyuan Real Estate ADR (XIN)', '4.53', '-0.36', '-7.36', '400,023'], ['56', 'Netshoes (Cayman) (NETS)', '2.14', '-0.17', '-7.36', '52,859'], ['57', 'SPI Energy (SPI)', '4.16', '-0.33', '-7.35', '38,578'], ['58', 'CorMedix (CRMD)', '8.53', '-0.67', '-7.28', '580,735'], ['59', 'Aratana Therapeutics (PETX)', '3.60', '-0.28', '-7.22', '257,947'], ['60', 'Gritstone Oncology (GRTS)', '13.79', '-1.07', '-7.20', '46,038'], ['61', 'Madrigal Pharmaceuticals (MDGL)', '117.73', '-9.10', '-7.17', '241,333'], ['62', 'Destination Maternity (DEST)', '2.34', '-0.18', '-7.14', '94,543'], ['63', 'Overstock.com (OSTK)', '15.09', '-1.16', '-7.14', '1,289,045'], ['64', 'Creative Realities (CREX)', '2.12', '-0.16', '-6.99', '18,334'], ['65', 'VelocityShares 3x Long Natural Gas ETN linked to the S&P GSCI Natural Gas Index Excess Return (UGAZ)', '26.48', '-1.98', '-6.96', '6,242,880'], ['66', 'Attis Industries (ATIS)', '2.14', '-0.16', '-6.96', '31,112'], ['67', 'Tilray (TLRY)', '49.24', '-3.67', '-6.94', '2,408,290'], ['68', 'Enlivex Therapeutics (ENLV)', '9.25', '-0.68', '-6.85', '4,487'], ['69', 'Cutera (CUTR)', '16.74', '-1.23', '-6.84', '195,073'], ['70', 'Basic Energy Services (BAS)', '3.15', '-0.23', '-6.80', '199,760'], ['71', 'CEL-SCI (CVM)', '5.35', '-0.39', '-6.79', '1,037,922'], ['72', 'Atossa Genetics (ATOS)', '2.78', '-0.20', '-6.71', '527,279'], ['73', 'Immucell (ICCC)', '6.19', '-0.44', '-6.64', '2,195'], ['74', 'Neon Therapeutics (NTGN)', '6.27', '-0.44', '-6.56', '112,001'], ['75', 'Alector (ALEC)', '24.69', '-1.73', '-6.55', '185,458'], ['76', 'Uxin ADR (UXIN)', '3.05', '-0.21', '-6.44', '7,524,830'], ['77', 'Dunxin Financial Holdings ADR (DXF)', '2.76', '-0.19', '-6.44', '27,933'], ['78', 'Castor Maritime (CTRM)', '5.38', '-0.37', '-6.43', '290,689'], ['79', 'scPharmaceuticals (SCPH)', '2.48', '-0.17', '-6.42', '51,958'], ['80', 'AudioEye (AEYE)', '9.63', '-0.65', '-6.37', '57,980'], ['81', 'Atomera (ATOM)', '2.81', '-0.19', '-6.33', '14,848'], ['82', 'Paratek Pharmaceuticals (PRTK)', '5.92', '-0.40', '-6.33', '522,897'], ['83', 'Check-Cap (CHEK)', '2.52', '-0.17', '-6.32', '271,354'], ['84', 'Lyft (LYFT)', '56.11', '-3.79', '-6.32', '14,183,611'], ['85', 'Bilibili ADR (BILI)', '17.18', '-1.14', '-6.22', '7,995,098'], ['86', 'Four Seasons Education (Cayman) ADR (FEDU)', '1.96', '-0.13', '-6.22', '42,210'], ['87', 'Bed Bath&Beyond (BBBY)', '16.88', '-1.11', '-6.17', '11,480,535'], ['88', 'Checkpoint Therapeutics (CKPT)', '2.92', '-0.19', '-6.11', '27,974'], ['89', 'Trinity Biotech ADR (TRIB)', '2.77', '-0.18', '-6.10', '173,026'], ['90', 'Rockwell Medical (RMTI)', '4.98', '-0.32', '-6.04', '219,842'], ['91', 'Salem Media Group (SALM)', '2.19', '-0.14', '-6.01', '126,292'], ['92', 'Fuwei Films Holdings (FFHL)', '2.59', '-0.17', '-5.99', '32,847'], ['93', 'MOGU ADR (MOGU)', '9.55', '-0.59', '-5.82', '184,425'], ['94', 'Ensco Rowan (ESV)', '14.85', '-0.91', '-5.77', '10,219,293'], ['95', 'Sohu.com ADR (SOHU)', '15.52', '-0.95', '-5.77', '452,654'], ['96', 'Fennec Pharmaceuticals (FENC)', '4.58', '-0.28', '-5.76', '70,459'], ['97', 'Kiniksa Pharmaceuticals (KNSA)', '17.02', '-1.03', '-5.71', '73,029'], ['98', 'Dogness (International) (DOGZ)', '3.55', '-0.21', '-5.69', '140,240'], ['99', 'Altimmune (ALT)', '3.00', '-0.18', '-5.66', '761,207'], ['100', 'HyreCar (HYRE)', '4.50', '-0.27', '-5.66', '387,039']]]}\n"
     ]
    }
   ],
   "source": [
    "# data collection class\n",
    "\n",
    "def wsj_gainers_losers(str_date = datetime.today().strftime('%Y%m%d')):\n",
    "    \"\"\"\n",
    "    Gets the top loser and gainers from the WSJ Market Data Centre (MDC) site.\n",
    "    \"\"\"\n",
    "    wsj_lose_url = \"http://www.wsj.com/mdc/public/page/2_3021-losecomp-loser-\"+str_date+\".html?mod=mdc_pastcalendar\"\n",
    "    wsj_gain_url = \"http://www.wsj.com/mdc/public/page/2_3021-gaincomp-gainer-\"+str_date+\".html?mod=mdc_pastcalendar\"\n",
    "    res = [requests.get(wsj_gain_url), requests.get(wsj_lose_url)]\n",
    "    return {\"gain_eqs\" : get_wsj_content(res[0]),\"loss_eqs\" : get_wsj_content(res[1])}\n",
    "    \n",
    "def get_wsj_content(res):\n",
    "    page = BeautifulSoup(res.text)\n",
    "    #Getting the table from the WSJ page.\n",
    "    table = page.find(\"table\",{\"class\": \"mdcTable\" })\n",
    "    col_names = []\n",
    "    rows = []\n",
    "    try:\n",
    "        for ind,row in enumerate(table.find_all(\"tr\")):\n",
    "            if ind == 0:\n",
    "                #print(row)\n",
    "                col_names = [cell.get_text(strip=True) for cell in row.find_all(\"td\")]\n",
    "                col_names[0] = \"S.No\"\n",
    "            else:\n",
    "                rows.append([col.text.strip() for col in row.find_all(\"td\")])\n",
    "    except Exception as e: \n",
    "        print(\"Table is empty!\",\"\\n Please make sure the date is not a holiday and if todays date is given wait till the EOD as in both cases the tables might be empty\")\n",
    "    return [col_names, rows]\n",
    "    \n",
    "eqs = wsj_gainers_losers('20190415')\n",
    "print(eqs)"
   ]
  },
  {
   "cell_type": "code",
   "execution_count": null,
   "metadata": {},
   "outputs": [],
   "source": []
  }
 ],
 "metadata": {
  "kernelspec": {
   "display_name": "Python [conda env:equity_jump_SA]",
   "language": "python",
   "name": "conda-env-equity_jump_SA-py"
  },
  "language_info": {
   "codemirror_mode": {
    "name": "ipython",
    "version": 3
   },
   "file_extension": ".py",
   "mimetype": "text/x-python",
   "name": "python",
   "nbconvert_exporter": "python",
   "pygments_lexer": "ipython3",
   "version": "3.7.3"
  }
 },
 "nbformat": 4,
 "nbformat_minor": 2
}
